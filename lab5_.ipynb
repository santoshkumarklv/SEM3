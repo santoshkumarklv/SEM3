{
 "cells": [
  {
   "cell_type": "markdown",
   "id": "30031bec",
   "metadata": {},
   "source": [
    "# Lab 5: Hyperparameter tuning, transfer learning, and fine-tuning\n"
   ]
  },
  {
   "cell_type": "markdown",
   "id": "22c0451a",
   "metadata": {},
   "source": [
    "The focus of this lab is on improving the results of a model. In particular, we are interested in exploring how using a pre-trained model can help improve results when we do not have a lot of data.\n",
    "\n",
    "Grading\n",
    "Individual grades will be assigned for this lab as Part 1 is not a group activity.\n",
    "\n",
    "For Parts 2-4, marks will be deducted for any extraneous code.\n",
    "\n",
    "What to submit\n",
    "One zipped file (NOT .rar) containing:\n",
    "\n",
    "A copy of this notebook with:\n",
    "Error-free code in Python/Keras\n",
    "All code cells executed and output visible\n",
    "Images of each group members Coursera certificate\n",
    "An image (jpeg or png) in the same directory as your notebook can be embedded using the following code in a markdown cell:\n",
    "<img src=\"my_image.jpg\" width=600 align=\"center\">"
   ]
  },
  {
   "cell_type": "markdown",
   "id": "4c371e8a",
   "metadata": {},
   "source": [
    "# Part 1: Learning Keras Tuner (25 marks)"
   ]
  },
  {
   "cell_type": "markdown",
   "id": "ea15ccdd",
   "metadata": {},
   "source": [
    "Each group member should successfully complete the Coursera course Hyperparameter Tuning with Keras Tuner and embed an image of their course completion certificate in the cell below.\n",
    "\n",
    "This is a free course that only requires registration (also free) with Coursera.\n",
    "\n",
    "NOTE: you may need to use import keras_tuner instead of import kerastuner as noted in the course files"
   ]
  },
  {
   "cell_type": "code",
   "execution_count": 1,
   "id": "59ec9a9d",
   "metadata": {},
   "outputs": [
    {
     "data": {
      "text/html": [
       "<img src=\"c1.jpg\" width=\"400\" height=\"400\"/>"
      ],
      "text/plain": [
       "<IPython.core.display.Image object>"
      ]
     },
     "execution_count": 1,
     "metadata": {},
     "output_type": "execute_result"
    }
   ],
   "source": [
    "# import image module\n",
    "from IPython.display import Image\n",
    "  \n",
    "# get the image\n",
    "Image(url=\"c1.jpg\", width=400, height=400)"
   ]
  },
  {
   "cell_type": "code",
   "execution_count": 2,
   "id": "03855324",
   "metadata": {},
   "outputs": [
    {
     "data": {
      "text/html": [
       "<img src=\"c2.jpg\" width=\"400\" height=\"400\"/>"
      ],
      "text/plain": [
       "<IPython.core.display.Image object>"
      ]
     },
     "execution_count": 2,
     "metadata": {},
     "output_type": "execute_result"
    }
   ],
   "source": [
    "Image(url=\"c2.jpg\", width=400, height=400)"
   ]
  },
  {
   "cell_type": "markdown",
   "id": "7ab97a52",
   "metadata": {},
   "source": [
    "# Part 2: Hyperparameter tuning (25 marks)"
   ]
  },
  {
   "cell_type": "markdown",
   "id": "eac4a575",
   "metadata": {},
   "source": [
    "Apply what you have learned in Part 1 to tune a convolutional neural network that you create for the Fashion MNIST data set. Make sure:\n",
    "\n",
    "your search includes at least 4 hyperparameters\n",
    "that you print out the results of your search\n",
    "that you print a summary of the best model, and\n",
    "that you quote the test accuracy of the best model"
   ]
  },
  {
   "cell_type": "code",
   "execution_count": 3,
   "id": "d71e3ddc",
   "metadata": {},
   "outputs": [
    {
     "name": "stdout",
     "output_type": "stream",
     "text": [
      "Requirement already satisfied: keras-tuner in c:\\users\\santo\\anaconda3\\envs\\dab300\\lib\\site-packages (1.1.2)\n",
      "Requirement already satisfied: packaging in c:\\users\\santo\\anaconda3\\envs\\dab300\\lib\\site-packages (from keras-tuner) (21.3)\n",
      "Requirement already satisfied: requests in c:\\users\\santo\\anaconda3\\envs\\dab300\\lib\\site-packages (from keras-tuner) (2.27.1)\n",
      "Requirement already satisfied: numpy in c:\\users\\santo\\anaconda3\\envs\\dab300\\lib\\site-packages (from keras-tuner) (1.22.2)\n",
      "Requirement already satisfied: kt-legacy in c:\\users\\santo\\anaconda3\\envs\\dab300\\lib\\site-packages (from keras-tuner) (1.0.4)\n",
      "Requirement already satisfied: ipython in c:\\users\\santo\\anaconda3\\envs\\dab300\\lib\\site-packages (from keras-tuner) (7.31.1)\n",
      "Requirement already satisfied: tensorboard in c:\\users\\santo\\anaconda3\\envs\\dab300\\lib\\site-packages (from keras-tuner) (2.8.0)\n",
      "Requirement already satisfied: pygments in c:\\users\\santo\\anaconda3\\envs\\dab300\\lib\\site-packages (from ipython->keras-tuner) (2.11.2)\n",
      "Requirement already satisfied: traitlets>=4.2 in c:\\users\\santo\\anaconda3\\envs\\dab300\\lib\\site-packages (from ipython->keras-tuner) (5.1.1)\n",
      "Requirement already satisfied: pickleshare in c:\\users\\santo\\anaconda3\\envs\\dab300\\lib\\site-packages (from ipython->keras-tuner) (0.7.5)\n",
      "Requirement already satisfied: backcall in c:\\users\\santo\\anaconda3\\envs\\dab300\\lib\\site-packages (from ipython->keras-tuner) (0.2.0)\n",
      "Requirement already satisfied: jedi>=0.16 in c:\\users\\santo\\anaconda3\\envs\\dab300\\lib\\site-packages (from ipython->keras-tuner) (0.18.1)\n",
      "Requirement already satisfied: prompt-toolkit!=3.0.0,!=3.0.1,<3.1.0,>=2.0.0 in c:\\users\\santo\\anaconda3\\envs\\dab300\\lib\\site-packages (from ipython->keras-tuner) (3.0.20)\n",
      "Requirement already satisfied: colorama in c:\\users\\santo\\anaconda3\\envs\\dab300\\lib\\site-packages (from ipython->keras-tuner) (0.4.4)\n",
      "Requirement already satisfied: matplotlib-inline in c:\\users\\santo\\anaconda3\\envs\\dab300\\lib\\site-packages (from ipython->keras-tuner) (0.1.2)\n",
      "Requirement already satisfied: decorator in c:\\users\\santo\\anaconda3\\envs\\dab300\\lib\\site-packages (from ipython->keras-tuner) (5.1.1)\n",
      "Requirement already satisfied: setuptools>=18.5 in c:\\users\\santo\\anaconda3\\envs\\dab300\\lib\\site-packages (from ipython->keras-tuner) (58.0.4)\n",
      "Requirement already satisfied: parso<0.9.0,>=0.8.0 in c:\\users\\santo\\anaconda3\\envs\\dab300\\lib\\site-packages (from jedi>=0.16->ipython->keras-tuner) (0.8.3)\n",
      "Requirement already satisfied: wcwidth in c:\\users\\santo\\anaconda3\\envs\\dab300\\lib\\site-packages (from prompt-toolkit!=3.0.0,!=3.0.1,<3.1.0,>=2.0.0->ipython->keras-tuner) (0.2.5)\n",
      "Requirement already satisfied: pyparsing!=3.0.5,>=2.0.2 in c:\\users\\santo\\anaconda3\\envs\\dab300\\lib\\site-packages (from packaging->keras-tuner) (3.0.4)\n",
      "Requirement already satisfied: certifi>=2017.4.17 in c:\\users\\santo\\anaconda3\\envs\\dab300\\lib\\site-packages (from requests->keras-tuner) (2021.10.8)\n",
      "Requirement already satisfied: urllib3<1.27,>=1.21.1 in c:\\users\\santo\\anaconda3\\envs\\dab300\\lib\\site-packages (from requests->keras-tuner) (1.26.8)\n",
      "Requirement already satisfied: idna<4,>=2.5 in c:\\users\\santo\\anaconda3\\envs\\dab300\\lib\\site-packages (from requests->keras-tuner) (3.3)\n",
      "Requirement already satisfied: charset-normalizer~=2.0.0 in c:\\users\\santo\\anaconda3\\envs\\dab300\\lib\\site-packages (from requests->keras-tuner) (2.0.12)\n",
      "Requirement already satisfied: protobuf>=3.6.0 in c:\\users\\santo\\anaconda3\\envs\\dab300\\lib\\site-packages (from tensorboard->keras-tuner) (3.19.4)\n",
      "Requirement already satisfied: tensorboard-plugin-wit>=1.6.0 in c:\\users\\santo\\anaconda3\\envs\\dab300\\lib\\site-packages (from tensorboard->keras-tuner) (1.8.1)\n",
      "Requirement already satisfied: google-auth<3,>=1.6.3 in c:\\users\\santo\\anaconda3\\envs\\dab300\\lib\\site-packages (from tensorboard->keras-tuner) (2.6.0)\n",
      "Requirement already satisfied: wheel>=0.26 in c:\\users\\santo\\anaconda3\\envs\\dab300\\lib\\site-packages (from tensorboard->keras-tuner) (0.37.1)\n",
      "Requirement already satisfied: tensorboard-data-server<0.7.0,>=0.6.0 in c:\\users\\santo\\anaconda3\\envs\\dab300\\lib\\site-packages (from tensorboard->keras-tuner) (0.6.1)\n",
      "Requirement already satisfied: werkzeug>=0.11.15 in c:\\users\\santo\\anaconda3\\envs\\dab300\\lib\\site-packages (from tensorboard->keras-tuner) (2.0.3)\n",
      "Requirement already satisfied: google-auth-oauthlib<0.5,>=0.4.1 in c:\\users\\santo\\anaconda3\\envs\\dab300\\lib\\site-packages (from tensorboard->keras-tuner) (0.4.6)\n",
      "Requirement already satisfied: markdown>=2.6.8 in c:\\users\\santo\\anaconda3\\envs\\dab300\\lib\\site-packages (from tensorboard->keras-tuner) (3.3.6)\n",
      "Requirement already satisfied: absl-py>=0.4 in c:\\users\\santo\\anaconda3\\envs\\dab300\\lib\\site-packages (from tensorboard->keras-tuner) (1.0.0)\n",
      "Requirement already satisfied: grpcio>=1.24.3 in c:\\users\\santo\\anaconda3\\envs\\dab300\\lib\\site-packages (from tensorboard->keras-tuner) (1.44.0)\n",
      "Requirement already satisfied: six in c:\\users\\santo\\anaconda3\\envs\\dab300\\lib\\site-packages (from absl-py>=0.4->tensorboard->keras-tuner) (1.16.0)\n",
      "Requirement already satisfied: rsa<5,>=3.1.4 in c:\\users\\santo\\anaconda3\\envs\\dab300\\lib\\site-packages (from google-auth<3,>=1.6.3->tensorboard->keras-tuner) (4.8)\n",
      "Requirement already satisfied: cachetools<6.0,>=2.0.0 in c:\\users\\santo\\anaconda3\\envs\\dab300\\lib\\site-packages (from google-auth<3,>=1.6.3->tensorboard->keras-tuner) (5.0.0)\n",
      "Requirement already satisfied: pyasn1-modules>=0.2.1 in c:\\users\\santo\\anaconda3\\envs\\dab300\\lib\\site-packages (from google-auth<3,>=1.6.3->tensorboard->keras-tuner) (0.2.8)\n",
      "Requirement already satisfied: requests-oauthlib>=0.7.0 in c:\\users\\santo\\anaconda3\\envs\\dab300\\lib\\site-packages (from google-auth-oauthlib<0.5,>=0.4.1->tensorboard->keras-tuner) (1.3.1)\n",
      "Requirement already satisfied: importlib-metadata>=4.4 in c:\\users\\santo\\anaconda3\\envs\\dab300\\lib\\site-packages (from markdown>=2.6.8->tensorboard->keras-tuner) (4.8.2)\n",
      "Requirement already satisfied: zipp>=0.5 in c:\\users\\santo\\anaconda3\\envs\\dab300\\lib\\site-packages (from importlib-metadata>=4.4->markdown>=2.6.8->tensorboard->keras-tuner) (3.7.0)\n",
      "Requirement already satisfied: pyasn1<0.5.0,>=0.4.6 in c:\\users\\santo\\anaconda3\\envs\\dab300\\lib\\site-packages (from pyasn1-modules>=0.2.1->google-auth<3,>=1.6.3->tensorboard->keras-tuner) (0.4.8)\n",
      "Requirement already satisfied: oauthlib>=3.0.0 in c:\\users\\santo\\anaconda3\\envs\\dab300\\lib\\site-packages (from requests-oauthlib>=0.7.0->google-auth-oauthlib<0.5,>=0.4.1->tensorboard->keras-tuner) (3.2.0)\n",
      "Note: you may need to restart the kernel to use updated packages.\n"
     ]
    }
   ],
   "source": [
    "pip install keras-tuner"
   ]
  },
  {
   "cell_type": "code",
   "execution_count": 4,
   "id": "fc4fb27f",
   "metadata": {},
   "outputs": [],
   "source": [
    "import keras_tuner\n",
    "import tensorflow as tf\n",
    "import matplotlib.pyplot as plt\n",
    "import numpy as np\n",
    "\n",
    "(x_train, y_train), (x_test, y_test) = tf.keras.datasets.fashion_mnist.load_data()\n",
    "def create_model(hp):\n",
    "    if hp:\n",
    "        dropout_rate = hp.Float('dropout_rate', min_value=0.1, max_value=0.5)\n",
    "        num_units = hp.Choice('num_units', values=[8, 16, 32])\n",
    "        learning_rate = hp.Float('learning_rate', min_value=0.0001, max_value=0.1)\n",
    "        num_hidden_layers = hp.Choice('num_hidden_layers', values=[1, 2, 3])\n",
    "    else:\n",
    "        dropout_rate = 0.1\n",
    "        num_units = 8\n",
    "        learning_rate = 1e-4\n",
    "        num_hidden_layers = 1\n",
    "    \n",
    "    model = tf.keras.models.Sequential()\n",
    "    model.add(tf.keras.layers.Flatten(input_shape=(28, 28)))\n",
    "    model.add(tf.keras.layers.Lambda(lambda x: x/255.))\n",
    "    \n",
    "    for _ in range(0, num_hidden_layers):\n",
    "        model.add(tf.keras.layers.Dense(num_units, activation='relu'))\n",
    "        model.add(tf.keras.layers.Dropout(dropout_rate))\n",
    "    \n",
    "    model.add(tf.keras.layers.Dense(10, activation='softmax'))\n",
    "\n",
    "    model.compile(\n",
    "        loss='sparse_categorical_crossentropy',\n",
    "        optimizer=tf.keras.optimizers.Adam(learning_rate),\n",
    "        metrics=['accuracy']\n",
    "    )\n",
    "    \n",
    "    return model"
   ]
  },
  {
   "cell_type": "code",
   "execution_count": 5,
   "id": "835d99d2",
   "metadata": {},
   "outputs": [
    {
     "name": "stdout",
     "output_type": "stream",
     "text": [
      "Model: \"sequential\"\n",
      "_________________________________________________________________\n",
      " Layer (type)                Output Shape              Param #   \n",
      "=================================================================\n",
      " flatten (Flatten)           (None, 784)               0         \n",
      "                                                                 \n",
      " lambda (Lambda)             (None, 784)               0         \n",
      "                                                                 \n",
      " dense (Dense)               (None, 8)                 6280      \n",
      "                                                                 \n",
      " dropout (Dropout)           (None, 8)                 0         \n",
      "                                                                 \n",
      " dense_1 (Dense)             (None, 10)                90        \n",
      "                                                                 \n",
      "=================================================================\n",
      "Total params: 6,370\n",
      "Trainable params: 6,370\n",
      "Non-trainable params: 0\n",
      "_________________________________________________________________\n"
     ]
    }
   ],
   "source": [
    "create_model(None).summary()"
   ]
  },
  {
   "cell_type": "code",
   "execution_count": 6,
   "id": "f77428d7",
   "metadata": {},
   "outputs": [],
   "source": [
    "class CustomTuner(keras_tuner.tuners.BayesianOptimization):\n",
    "    def run_trial(self, trial, *args, **kwargs):\n",
    "        kwargs['batch_size'] = trial.hyperparameters.Int('batch_size', 32, 128, step=32)\n",
    "        super(CustomTuner, self).run_trial(trial, *args, **kwargs)\n",
    "        "
   ]
  },
  {
   "cell_type": "code",
   "execution_count": 7,
   "id": "919a0969",
   "metadata": {},
   "outputs": [],
   "source": [
    "tuner = CustomTuner(\n",
    "    create_model,\n",
    "    objective='val_accuracy',\n",
    "    max_trials=20,\n",
    "    directory='logs',\n",
    "    project_name='fashion_mnist',\n",
    "    overwrite=True,\n",
    ")"
   ]
  },
  {
   "cell_type": "code",
   "execution_count": 8,
   "id": "41924bf7",
   "metadata": {},
   "outputs": [
    {
     "name": "stdout",
     "output_type": "stream",
     "text": [
      "Search space summary\n",
      "Default search space size: 4\n",
      "dropout_rate (Float)\n",
      "{'default': 0.1, 'conditions': [], 'min_value': 0.1, 'max_value': 0.5, 'step': None, 'sampling': None}\n",
      "num_units (Choice)\n",
      "{'default': 8, 'conditions': [], 'values': [8, 16, 32], 'ordered': True}\n",
      "learning_rate (Float)\n",
      "{'default': 0.0001, 'conditions': [], 'min_value': 0.0001, 'max_value': 0.1, 'step': None, 'sampling': None}\n",
      "num_hidden_layers (Choice)\n",
      "{'default': 1, 'conditions': [], 'values': [1, 2, 3], 'ordered': True}\n"
     ]
    }
   ],
   "source": [
    "tuner.search_space_summary(1)"
   ]
  },
  {
   "cell_type": "code",
   "execution_count": 9,
   "id": "c6002217",
   "metadata": {},
   "outputs": [],
   "source": [
    "#model=tuner.get_best_models(num_models=1)[0]\n",
    "\n"
   ]
  },
  {
   "cell_type": "code",
   "execution_count": 10,
   "id": "cecc4dfe",
   "metadata": {},
   "outputs": [],
   "source": [
    "#model.evaluate(x_test, y_test)"
   ]
  },
  {
   "cell_type": "markdown",
   "id": "4735cc59",
   "metadata": {},
   "source": [
    "# Part 3: Transfer learning (25 marks)"
   ]
  },
  {
   "cell_type": "code",
   "execution_count": 11,
   "id": "157f2d4a",
   "metadata": {},
   "outputs": [],
   "source": [
    "from tensorflow.keras.preprocessing.image import ImageDataGenerator\n",
    "from keras.utils.vis_utils import plot_model"
   ]
  },
  {
   "cell_type": "code",
   "execution_count": 12,
   "id": "b574e58d",
   "metadata": {},
   "outputs": [],
   "source": [
    "# Add our data-augmentation parameters to ImageDataGenerator\n",
    "train= ImageDataGenerator(rescale = 1./255., rotation_range = 40)\n",
    "validate=ImageDataGenerator(rescale = 1./255., rotation_range = 40)\n",
    "test=ImageDataGenerator(rescale = 1./255., rotation_range = 40)"
   ]
  },
  {
   "cell_type": "code",
   "execution_count": 13,
   "id": "972b45e1",
   "metadata": {},
   "outputs": [
    {
     "name": "stdout",
     "output_type": "stream",
     "text": [
      "Found 350 images belonging to 5 classes.\n",
      "Found 50 images belonging to 5 classes.\n",
      "Found 200 images belonging to 11 classes.\n"
     ]
    }
   ],
   "source": [
    "# Load the images into the data frames\n",
    "train_data=train.flow_from_directory(\"C:/Users/santo/Downloads/images/train\",\n",
    "                                        target_size =(180,180),\n",
    "                                        batch_size=32,\n",
    "                                        class_mode='binary')\n",
    "validation_data=validate.flow_from_directory(\"C:/Users/santo/Downloads/images/validate\",\n",
    "                                        target_size =(180,180),\n",
    "                                        batch_size=32,\n",
    "                                        class_mode='binary')\n",
    "testing_data=test.flow_from_directory(\"C:/Users/santo/Downloads/images/test\",\n",
    "                                        target_size =(180,180),\n",
    "                                        batch_size=32,\n",
    "                                        class_mode='binary')"
   ]
  },
  {
   "cell_type": "code",
   "execution_count": 14,
   "id": "52fbb2f3",
   "metadata": {},
   "outputs": [
    {
     "data": {
      "text/plain": [
       "{\"'black cat'\": 0,\n",
       " \"'black dog'\": 1,\n",
       " \"'brown cat'\": 2,\n",
       " \"'brown dog'\": 3,\n",
       " 'cat': 4}"
      ]
     },
     "execution_count": 14,
     "metadata": {},
     "output_type": "execute_result"
    }
   ],
   "source": [
    "train_data.class_indices"
   ]
  },
  {
   "cell_type": "code",
   "execution_count": 15,
   "id": "84c917de",
   "metadata": {},
   "outputs": [],
   "source": [
    "#Create and Evaluate a Model\n",
    "import tensorflow as tf\n",
    "model = tf.keras.models.Sequential([ tf.keras.layers.Conv2D(16,(3,3),activation = 'relu', input_shape=(180,180,3)),\n",
    "                                    tf.keras.layers.MaxPool2D(2,2),\n",
    "                                    tf.keras.layers.Conv2D(32,(3,3),activation = 'relu', input_shape=(180,180,3)),\n",
    "                                    tf.keras.layers.MaxPool2D(2,2),\n",
    "                                    tf.keras.layers.Conv2D(64,(3,3),activation = 'relu', input_shape=(180,180,3)),\n",
    "                                    tf.keras.layers.MaxPool2D(2,2),\n",
    "                                    tf.keras.layers.Flatten(),\n",
    "                                    tf.keras.layers.Dense(512,activation='relu'),\n",
    "                                    tf.keras.layers.Dense(1,activation='sigmoid')\n",
    "                                   ])"
   ]
  },
  {
   "cell_type": "code",
   "execution_count": 16,
   "id": "5e00d0d8",
   "metadata": {},
   "outputs": [],
   "source": [
    "# Compile the model using adam optimizer\n",
    "model.compile(loss='binary_crossentropy',\n",
    "              optimizer = 'adam',\n",
    "              metrics=['accuracy'])"
   ]
  },
  {
   "cell_type": "code",
   "execution_count": 17,
   "id": "8643aec8",
   "metadata": {},
   "outputs": [
    {
     "name": "stdout",
     "output_type": "stream",
     "text": [
      "Epoch 1/3\n",
      "3/3 [==============================] - 6s 2s/step - loss: -11.2080 - accuracy: 0.2396 - val_loss: -60.2346 - val_accuracy: 0.2000\n",
      "Epoch 2/3\n",
      "3/3 [==============================] - 4s 2s/step - loss: -79.5197 - accuracy: 0.2553 - val_loss: -306.3752 - val_accuracy: 0.2000\n",
      "Epoch 3/3\n",
      "3/3 [==============================] - 4s 1s/step - loss: -255.5278 - accuracy: 0.2660 - val_loss: -1035.6293 - val_accuracy: 0.2000\n"
     ]
    }
   ],
   "source": [
    "# Fit the model\n",
    "model_fit = model.fit(train_data,\n",
    "                      steps_per_epoch = 3,\n",
    "                      epochs = 3,\n",
    "                      validation_data= validation_data)"
   ]
  },
  {
   "cell_type": "code",
   "execution_count": 18,
   "id": "3a83f293",
   "metadata": {},
   "outputs": [
    {
     "name": "stdout",
     "output_type": "stream",
     "text": [
      "7/7 [==============================] - 4s 522ms/step - loss: -1944.9353 - accuracy: 0.0500\n"
     ]
    }
   ],
   "source": [
    "scores=model.evaluate(testing_data)"
   ]
  },
  {
   "cell_type": "markdown",
   "id": "f89e574c",
   "metadata": {},
   "source": [
    "# Part 3: Transfer learning (25 marks)"
   ]
  },
  {
   "cell_type": "markdown",
   "id": "f6ede316",
   "metadata": {},
   "source": [
    "For this part, you can choose any pre-trained network available in keras.applications, except VGG16 or VGG19. Be sure to verify that the chosen network can be used for classification. Following what we did in class, apply this model, with data augmentation, to the data you created for Lab 4. Compare the accuracy on test data to what you achieved in Lab 4."
   ]
  },
  {
   "cell_type": "code",
   "execution_count": 19,
   "id": "221254ae",
   "metadata": {},
   "outputs": [],
   "source": [
    "# Augmenting the dataset with Random Rotation to change the angle from which the image is viewed and It is augmented with RandomZoom to view it in maximised views.\n",
    "data_augmentation = tf.keras.Sequential([\n",
    "    tf.keras.layers.experimental.preprocessing.RandomRotation(0.1),\n",
    "    tf.keras.layers.experimental.preprocessing.RandomZoom(0.1),\n",
    "    \n",
    "])"
   ]
  },
  {
   "cell_type": "code",
   "execution_count": 20,
   "id": "75fe5382",
   "metadata": {},
   "outputs": [
    {
     "name": "stdout",
     "output_type": "stream",
     "text": [
      "Found 350 images belonging to 5 classes.\n",
      "Found 50 images belonging to 5 classes.\n",
      "Found 200 images belonging to 11 classes.\n"
     ]
    }
   ],
   "source": [
    "# Load the images into the data frames\n",
    "train_data=train.flow_from_directory(\"C:/Users/santo/Downloads/images/train\",\n",
    "                                        target_size =(180,180),\n",
    "                                        batch_size=32,\n",
    "                                        class_mode='binary')\n",
    "validation_data=validate.flow_from_directory(\"C:/Users/santo/Downloads/images/validate\",\n",
    "                                        target_size =(180,180),\n",
    "                                        batch_size=32,\n",
    "                                        class_mode='binary')\n",
    "testing_data=test.flow_from_directory(\"C:/Users/santo/Downloads/images/test\",\n",
    "                                        target_size =(180,180),\n",
    "                                        batch_size=32,\n",
    "                                        class_mode='binary')"
   ]
  },
  {
   "cell_type": "code",
   "execution_count": 21,
   "id": "b3654bdf",
   "metadata": {},
   "outputs": [
    {
     "data": {
      "text/plain": [
       "{\"'black cat'\": 0,\n",
       " \"'black dog'\": 1,\n",
       " \"'brown cat'\": 2,\n",
       " \"'brown dog'\": 3,\n",
       " 'cat': 4}"
      ]
     },
     "execution_count": 21,
     "metadata": {},
     "output_type": "execute_result"
    }
   ],
   "source": [
    "train_data.class_indices"
   ]
  },
  {
   "cell_type": "code",
   "execution_count": 22,
   "id": "5592a0bc",
   "metadata": {},
   "outputs": [],
   "source": [
    "# Get a ResNet50 model\n",
    "\n",
    "from tensorflow.keras.applications import ResNet50\n",
    "\n",
    "base_model = ResNet50(input_shape=(180, 180,3), include_top=False, weights=\"imagenet\")\n",
    "for layer in base_model.layers:\n",
    "    layer.trainable = False"
   ]
  },
  {
   "cell_type": "code",
   "execution_count": 23,
   "id": "b04a496b",
   "metadata": {},
   "outputs": [
    {
     "data": {
      "text/plain": [
       "<keras.layers.core.dense.Dense at 0x24bbafda9d0>"
      ]
     },
     "execution_count": 23,
     "metadata": {},
     "output_type": "execute_result"
    }
   ],
   "source": [
    "from tensorflow.keras.applications import ResNet50\n",
    "from tensorflow.python.keras.models import Sequential\n",
    "from tensorflow.python.keras.layers import Dense, Flatten, GlobalAveragePooling2D\n",
    "\n",
    "resnet_model = Sequential()\n",
    "resnet_model.add(ResNet50(include_top=False, weights='imagenet', pooling='max'))\n",
    "resnet_model.add(Dense(1, kernel_initializer='normal'))\n",
    "tf.keras.layers.Dense(1,activation='sigmoid')"
   ]
  },
  {
   "cell_type": "code",
   "execution_count": 27,
   "id": "383fd982",
   "metadata": {},
   "outputs": [
    {
     "ename": "ValueError",
     "evalue": "This model has not yet been built. Build the model first by calling `build()` or calling `fit()` with some data, or specify an `input_shape` argument in the first layer(s) for automatic build.",
     "output_type": "error",
     "traceback": [
      "\u001b[1;31m---------------------------------------------------------------------------\u001b[0m",
      "\u001b[1;31mValueError\u001b[0m                                Traceback (most recent call last)",
      "\u001b[1;32m~\\AppData\\Local\\Temp/ipykernel_2800/3131883415.py\u001b[0m in \u001b[0;36m<module>\u001b[1;34m\u001b[0m\n\u001b[1;32m----> 1\u001b[1;33m \u001b[0mresnet_model\u001b[0m\u001b[1;33m.\u001b[0m\u001b[0msummary\u001b[0m\u001b[1;33m(\u001b[0m\u001b[1;33m)\u001b[0m\u001b[1;33m\u001b[0m\u001b[1;33m\u001b[0m\u001b[0m\n\u001b[0m",
      "\u001b[1;32m~\\anaconda3\\envs\\DAB300\\lib\\site-packages\\tensorflow\\python\\keras\\engine\\training.py\u001b[0m in \u001b[0;36msummary\u001b[1;34m(self, line_length, positions, print_fn)\u001b[0m\n\u001b[0;32m   2507\u001b[0m     \"\"\"\n\u001b[0;32m   2508\u001b[0m     \u001b[1;32mif\u001b[0m \u001b[1;32mnot\u001b[0m \u001b[0mself\u001b[0m\u001b[1;33m.\u001b[0m\u001b[0mbuilt\u001b[0m\u001b[1;33m:\u001b[0m\u001b[1;33m\u001b[0m\u001b[1;33m\u001b[0m\u001b[0m\n\u001b[1;32m-> 2509\u001b[1;33m       raise ValueError('This model has not yet been built. '\n\u001b[0m\u001b[0;32m   2510\u001b[0m                        \u001b[1;34m'Build the model first by calling `build()` or calling '\u001b[0m\u001b[1;33m\u001b[0m\u001b[1;33m\u001b[0m\u001b[0m\n\u001b[0;32m   2511\u001b[0m                        \u001b[1;34m'`fit()` with some data, or specify '\u001b[0m\u001b[1;33m\u001b[0m\u001b[1;33m\u001b[0m\u001b[0m\n",
      "\u001b[1;31mValueError\u001b[0m: This model has not yet been built. Build the model first by calling `build()` or calling `fit()` with some data, or specify an `input_shape` argument in the first layer(s) for automatic build."
     ]
    }
   ],
   "source": [
    "resnet_model.summary()"
   ]
  },
  {
   "cell_type": "code",
   "execution_count": null,
   "id": "1bf379ef",
   "metadata": {},
   "outputs": [],
   "source": [
    "resnet_model.compile(optimizer = tf.keras.optimizers.SGD(lr=0.01), loss = 'binary_crossentropy', metrics = ['acc'])\n",
    "resnet_model.fit(train_data, validation_data=validation_data, steps_per_epoch = 10, epochs = 5)"
   ]
  },
  {
   "cell_type": "code",
   "execution_count": null,
   "id": "8d32600b",
   "metadata": {},
   "outputs": [],
   "source": [
    "resnet_model.evaluate(test_data)"
   ]
  },
  {
   "cell_type": "markdown",
   "id": "524414b8",
   "metadata": {},
   "source": [
    "# Part 4: Fine-tuning (25 marks)"
   ]
  },
  {
   "cell_type": "markdown",
   "id": "569c369e",
   "metadata": {},
   "source": [
    "Following what we did in class, fine-tune the model that you trained in Part 3. Compare the accuracy on test data to what you achieved in Part 3"
   ]
  },
  {
   "cell_type": "code",
   "execution_count": null,
   "id": "3f53f447",
   "metadata": {},
   "outputs": [],
   "source": [
    "resnet_model.compile(optimizer = tf.keras.optimizers.SGD(lr=0.0001), loss = 'binary_crossentropy', metrics = ['acc'])\n",
    "resnet_model.fit(train_data, validation_data=validation_data, steps_per_epoch = 40, epochs = 5)"
   ]
  },
  {
   "cell_type": "code",
   "execution_count": null,
   "id": "739382a0",
   "metadata": {},
   "outputs": [],
   "source": []
  }
 ],
 "metadata": {
  "kernelspec": {
   "display_name": "Python 3 (ipykernel)",
   "language": "python",
   "name": "python3"
  },
  "language_info": {
   "codemirror_mode": {
    "name": "ipython",
    "version": 3
   },
   "file_extension": ".py",
   "mimetype": "text/x-python",
   "name": "python",
   "nbconvert_exporter": "python",
   "pygments_lexer": "ipython3",
   "version": "3.9.7"
  }
 },
 "nbformat": 4,
 "nbformat_minor": 5
}
